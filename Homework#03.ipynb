{
 "cells": [
  {
   "cell_type": "markdown",
   "metadata": {},
   "source": [
    "# Homework 3\n",
    "\n",
    "**Student: Virgínia Monnerat**"
   ]
  },
  {
   "cell_type": "markdown",
   "metadata": {},
   "source": [
    "### Exercise 1\n",
    "\n",
    "Suppose that $C$ is a class of structures axiomatized by a finite theory $T$. Suppose that $T'$ is a theory such that $T'$ also axiomatizes $C$ (i. e., $T$ coincides with the set of all and only those structures that satisfy $T'$). Show that there exists a finite subset of $T'$ that axiomatizes $C$.\n",
    "\n",
    "#### Solution\n",
    "\n",
    "$T$ a finite theory and $T$ axiomatizes $C$ implies that $C$ is finitelly axiomatizable.\n",
    "\n",
    "So, there exist a sentence $E$ such that $E$ axiomatizes $C$.\n",
    "\n",
    "$T'$ also axiomatizes $C$ then the sentence $E$ must be provable from theory $T'$.\n",
    "\n",
    "So, there exist a formal derivation $(D_1 D_2 \\cdots D_n)$ of $T'$ with conclusion $E$. In other words, there exist a sequence of formulas $(F_1, \\cdots, F_n)$ such that $F_i$ is in $T'$ or can be obtained by Generalization or Modus Pones by the previous formulas. So there exist a finite subset of $T'$ such that implies $E$ then this finite subset axiomatizes $C$. ■"
   ]
  },
  {
   "cell_type": "markdown",
   "metadata": {},
   "source": [
    "### Exercise 2\n",
    "\n",
    "Let $T_1$ and $T_2$ be two theories in a language $\\mathcal{L}$. Suppose that for each structure $\\mathfrak{A}$ adequate for $\\mathcal{L}$, $\\mathfrak{A} \\models T_1$ if and only if  $\\mathfrak{A} \\not\\models T_2$. Show that $T_1$ and $T_2$ are finitely axiomatizable.\n",
    "\n",
    "(Hint: Reson by way of contradiction and use the Compactness Theorem to obtain a model of an unsatisfiable theory.)\n",
    "\n",
    "#### Solution\n",
    "\n",
    "It is given that for each structure $\\mathfrak{A}$ adequate for $\\mathcal{L}$, $\\mathfrak{A} \\models T_1 \\Leftrightarrow  \\mathfrak{A} \\not\\models T_2$, then for each structure $\\mathfrak{A}$ adequate for $\\mathcal{L}$ we have that $\\mathfrak{A} \\models T_1 \\vee \\mathfrak{A} \\models T_2$.\n",
    "\n",
    "Suppose by way of contradiction that $T_1$ is not finitely axiomatizable then there exist at least one structure $\\mathfrak{A}$ adequate for $\\mathcal{L}$ such that $\\mathfrak{A} \\models T_1$ and $\\mathfrak{A}$ is not finitelly axiomatizable.\n",
    "\n",
    "Let $C$ be the class of all structures axiomatizable by $T_1$. Obviously $C$ is not finitelly axiomatizable.\n",
    "\n",
    "Let $C'$ be complement of $C$ which is the class of all structures not axiomatizable by $T_1$.\n",
    "\n",
    "By Compactness (Lemma 2.5 in handouts), $C'$ is not axiomatizable, otherwise both $C$ and $C'$ would be finitely axiomatizable.\n",
    "\n",
    "But for any structure $\\mathfrak{A}$ adequate for $\\mathcal{L}$ we have that $\\mathfrak{A} \\models T_1 \\vee \\mathfrak{A} \\models T_2$, then $C'$ is the class of all structures axiomatizable by $T_2$. \n",
    "\n",
    "So both $T_1$ and $T_2$ must be finitely axiomatizable. ■"
   ]
  },
  {
   "cell_type": "markdown",
   "metadata": {},
   "source": [
    "### Exercise 3\n",
    "\n",
    "Let $\\rho_0, \\rho_1, \\rho_2, \\cdots$ be the list of all prime numbers in increasing order. Show that for any subset $S \\subseteq \\mathbb{N}$ there is a model of arithmetic (i. e. a model of all sentences true in the standard model) that contains an element $c$ such that $c$ is divisible by $p_i$ for all and only the $p_i$s such that $i \\in S$.\n",
    "\n",
    "(Hint: use an extra constant and Compactness.)\n",
    "\n",
    "#### Solution\n",
    "\n",
    "Let $S$ be any subset of $\\mathbb{N}$.\n",
    "\n",
    "Let $T'$ be a set of sentences that defines a theory.\n",
    "\n",
    "Let $c$ be a new constant in this theory.\n",
    "\n",
    "Let $T' = \\{S_1, S_2, \\cdots, S_i, \\cdots \\}$ with $S_i$ a sentence that says $c$ is divisible by $p_i$ iff $i \\in S$.  \n",
    "\n",
    "All finite subsets of $T'$ has a model, so $T'$ has a model.\n",
    "\n",
    "Let $T$ be the theory of the standard model. \n",
    "\n",
    "So, by compactness $T \\cup T'$ has a model, say $\\mathfrak{A}$.\n",
    "\n",
    "So $\\mathfrak{A}$ is a model of arithmetic that contains an element $c$ such that $c$ is divisible by $p_i$ for all and only the $p_i$s such that $i \\in S$. ■"
   ]
  },
  {
   "cell_type": "markdown",
   "metadata": {},
   "source": [
    "### Exercise 5\n",
    "\n",
    "Show that the property of being a non-bipartite graph is not finitely axiomatizable.\n",
    "\n",
    "(Hint: use a particular property of bipartite graphs concerning cycles and a standard Compactness argument).\n",
    "\n",
    "#### Solution\n",
    "\n",
    "Being a non-bipartite graph is equivalent of having an odd cycle, or having a cycle with size $2i + 1$, with $i \\in \\mathbb{N}$.\n",
    "\n",
    "Let $S_i$ be a sentence that says the graph has a cycle of length $2i + 1$ with $i \\in \\mathbb{N}$.\n",
    "\n",
    "So the theory $T$ that axiomatizes the propertie of being a non-bipartite can be $T = \\{S_1, S_2, S_3, \\cdots, S_i, \\cdots\\}$. Any finite subsection of T has a model, so by Compactness, $T$ has a model. \n",
    "\n",
    "Suppose by way of contradiction that the property of being a non-bipartite graph is finitely axiomatizable. So there is a finite subset of $T$ that axiomatizes the property, say $T'$. But this finite subset will not contain all $S_i$s such that $i \\in \\mathbb{N}$, so there exists an $S_j$ with $j \\in \\mathbb{N}$ that is not in the subset, so $T'$ fails for the cycle $2j + 1$, contradiction. ■"
   ]
  }
 ],
 "metadata": {
  "kernelspec": {
   "display_name": "Python 3",
   "language": "python",
   "name": "python3"
  },
  "language_info": {
   "codemirror_mode": {
    "name": "ipython",
    "version": 3
   },
   "file_extension": ".py",
   "mimetype": "text/x-python",
   "name": "python",
   "nbconvert_exporter": "python",
   "pygments_lexer": "ipython3",
   "version": "3.7.3"
  }
 },
 "nbformat": 4,
 "nbformat_minor": 2
}

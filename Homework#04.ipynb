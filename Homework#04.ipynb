{
 "cells": [
  {
   "cell_type": "markdown",
   "metadata": {},
   "source": [
    "# Homework 4\n",
    "\n",
    "**Student: Virgínia Monnerat**"
   ]
  },
  {
   "cell_type": "markdown",
   "metadata": {},
   "source": [
    "## Group 1"
   ]
  },
  {
   "cell_type": "markdown",
   "metadata": {},
   "source": [
    "### Exercise 1\n",
    "\n",
    "Prove that $\\omega$-consistency implies consistency. Prove that the reverse implication is false.\n",
    "\n",
    "(Hint: consider the theory **PA** $+$ $\\neg Con$(**PA**) or **MA** $+$ $\\neg Con$(**MA**))\n",
    "\n",
    "#### Solution\n",
    "By the definition $T$ is inconsistent $\\Leftrightarrow$ exist a sentence $F$ such that $T \\vdash F \\wedge T \\vdash \\neg F$.\n",
    "\n",
    "By the definition $T$ is $\\omega$-inconsistent $\\Leftrightarrow$ Exist a formula $A(x)$ such that $\\forall n \\in \\mathbb{N}(T \\vdash A(n)) \\wedge T \\vdash \\neg (\\forall x)A(x)$.\n",
    "\n",
    "Prove $T$ is $\\omega$-consistency $\\Rightarrow$ $T$ is consistent is equivalent to prove $T$ is inconsistent $\\Rightarrow$ $T$ is $\\omega$-inconsistency.\n",
    "\n",
    "Suppose $T$ is inconsistent, so there exist a sentence $F$ such that  $T \\vdash F \\wedge T \\vdash \\neg F$.\n",
    "\n",
    "By quantifier elimination there is a formula $A(x)$ such that $F \\Leftrightarrow \\forall x A(x)$, so we have\n",
    "\n",
    "$(T \\vdash \\forall x A(x) \\wedge T \\vdash \\neg \\forall x A(x)) \\Rightarrow (\\forall n \\in \\mathbb{N} T \\vdash A(n) \\wedge T \\vdash \\neg \\forall x A(x))$.\n",
    "\n",
    "So, $T$ is also $\\omega$-inconsistency. ■\n",
    "\n",
    "By the Gödel's Second Incompleteness Theorem we have that if $T$ is consistent then $T$ does not prove $Con(T)$. So **MA** $+$ $\\neg Con$(**MA**) must be consistent, otherwise **MA** would prove $Con$(**MA**) contradicting the theorem.\n",
    "\n",
    "Let $A(x)$ be $x \\neq 0$.\n",
    "\n",
    "It is true that $(\\forall n \\in \\mathbb{N}$ **MA** $\\vdash (x \\neq 0)) \\wedge ($  **MA** $ \\vdash \\neg(\\forall x) (x \\neq 0))$.\n",
    "\n",
    "So it is also true that, for $T = $ **MA** $+$ $\\neg Con$(**MA**),\n",
    "\n",
    "$(\\forall n \\in \\mathbb{N} T \\vdash (x \\neq 0)) \\wedge ( T \\vdash \\neg(\\forall x) (x \\neq 0))$.\n",
    "\n",
    "So **MA** $+$ $\\neg Con$(**MA**) is consistent but not $\\omega$-consistency, which proves that it is not true that $T$ is consistent $\\Rightarrow$ $T$ is $\\omega$-consistency. ■"
   ]
  },
  {
   "cell_type": "markdown",
   "metadata": {},
   "source": [
    "### Exercise 2\n",
    "\n",
    "Consider Gödel's unprovable sentence $G$ for some theory $T$ $\\supseteq$ **MA**, satisfying:\n",
    "\n",
    "$$T \\vdash G \\Leftrightarrow \\forall x \\neg {Proof}_T(x,\\overline{code(G)}).$$\n",
    "\n",
    "Prove that if $T$ is consistent then $T + \\{¬G\\}$ is consistent but not $\\omega$-consistent.\n",
    "\n",
    "#### Solution\n",
    "\n",
    "Suppose by way of contradiction that $T$ is consistent and $T + \\{\\neg G\\}$ is not, so $T \\vdash G$, otherwise $T + \\{\\neg G\\}$ would not prove $G$ then $T + \\{\\neg G\\}$ would not be inconsistent. But, by the Gödel's First Incompletness Theorem, Part I, if $T$ is consistent then $G$ is umprovable in $T$. Therefore, $T$ is inconsistent, contradiction. So, if $T$ is consistent then $T + \\{\\neg G\\}$ is consistent.\n",
    "\n",
    "By the Gödel's First Incompletness Theorem, Part II, if a theory is $\\omega$-consistent then $\\neg G$ is unprovable in $T$. Suppose by way of contradiction that $T + \\{\\neg G\\}$ is $\\omega$-consistent. So, by the theorem aforementioned, $\\neg G$ is not provable in $T + \\{\\neg G\\}$, but $T + \\{\\neg G\\}$ does prove $\\neg G$, contradiction. So $T + \\{\\neg G\\}$ is not $\\omega$-consistent. ■"
   ]
  },
  {
   "cell_type": "markdown",
   "metadata": {},
   "source": [
    "## Group 2"
   ]
  },
  {
   "cell_type": "markdown",
   "metadata": {},
   "source": [
    "### Exercise 2\n",
    "\n",
    "Give a direct proof of the following reductions\n",
    "\n",
    "$K \\leq_m Fin \\leq_m Cof$\n",
    "\n",
    "where\n",
    "\n",
    "$Fin = \\{ i : W_i$ is finite $\\}$,\n",
    "\n",
    "and\n",
    "\n",
    "$Cof = \\{ i : W_i$ is cofinite $\\}$.\n",
    "\n",
    "(Hint: Define a computable total function $f$ by completing appropriately the following scheme.\n",
    "\n",
    "$\\varphi_{f(e)}(z) = \\left\\{\\begin{matrix} 0 && \\mathrm{if} \\quad \\cdots, \\\\ \\uparrow && \\mathrm{otherwise}. \\end{matrix}\\right.$\n",
    "\n",
    "The $f$ for the first reduction has to satisfy\n",
    "\n",
    "$e \\in K \\Leftrightarrow f(e) \\in Fin.$\n",
    "\n",
    "The $f$ for the second reduction has to satisfy\n",
    "\n",
    "$e \\in Fin \\Leftrightarrow f(e) \\in Cof.$\n",
    "\n",
    "For the first reduction use the computable approximations $K_z$ of $K$. For the second use the computable approximations $W_{e,s}$ of $W_e$.)\n",
    "\n",
    "#### Solution\n",
    "\n",
    "Let $R$ be decidable predicate such that\n",
    "\n",
    "$e \\in \\overline{K} \\Leftrightarrow \\forall x \\exists y R(e,x,y).$\n",
    "\n",
    "Let $f$ be a total (injective) computable function such that\n",
    "\n",
    "$\\varphi_{f(e)}(z) = \\left\\{\\begin{matrix} 0  && \\mathrm{if} \\quad (\\forall x \\leq z) (\\exists y) R(e,x,y), \\\\ \\uparrow && \\mathrm{otherwise}. \\end{matrix}\\right.$\n",
    "\n",
    "So we have $e \\in K \\Rightarrow W_{f(e)}$ is finite $\\Leftrightarrow f(e) \\in Fin.$\n",
    "\n",
    "Let $R$ be decidable predicate such that\n",
    "\n",
    "$e \\in Fin \\Leftrightarrow \\forall x \\exists y R(n,x,y).$\n",
    "\n",
    "Let $f$ be a total (injective) computable function such that\n",
    "\n",
    "$\\varphi_{f(n)}(s) = \\left\\{\\begin{matrix} 0  && \\mathrm{if} \\quad (\\forall x \\leq s) (\\exists y) R(e,x,y), \\\\ \\uparrow && \\mathrm{otherwise}. \\end{matrix}\\right.$\n",
    "\n",
    "So we have $e \\in Fin \\Rightarrow W_{e}$ is finite $\\Leftrightarrow f(n) \\in \\overline{Fin} \\Leftrightarrow f(n) \\in Cof.$ ■"
   ]
  },
  {
   "cell_type": "markdown",
   "metadata": {},
   "source": [
    "### Exercise 4\n",
    "\n",
    "Modify our proof that $\\{n : \\forall x \\neg T(n, n, x)\\}$ in in $\\Pi_1 − \\Sigma_1$ and $\\{n : \\exists x T(n, n, x)\\}$ is in $\\Sigma_1 − \\Pi_1$ to prove that there is a set in $\\Sigma_2 − \\Pi_2$ and that there is a set in $\\Pi_2 − \\Sigma_2$ (don’t use what we proved in class\n",
    "about $Fin$ and $Tot$!).\n",
    "\n",
    "#### Solution\n",
    "\n",
    "Suppose by way of contradiction that $\\{n : \\forall x \\exists y \\neg T(n, n, x, y)\\}$ is $\\Sigma_2$. Then\n",
    "\n",
    "$\\forall n \\in \\mathbb{N}(\\forall x \\exists y \\neg T(n, n, x, y) \\Leftrightarrow \\exists x \\forall y R(n, x, y))$ for some decidable predicate $R$. \n",
    "\n",
    "Then, by the Normal Form Theorems, there exists an $e$ such that $\\forall n \\in \\mathbb{N}$\n",
    "\n",
    "$\\neg \\exists x \\forall y R(n, x, y) \\Leftrightarrow \\neg \\exists x \\forall y T(e, n, x, y)$.\n",
    "\n",
    "Therefore, $ \\forall n \\in \\mathbb{N}$, \n",
    "\n",
    "$\\forall x \\exists y \\neg T(n, n, x, y) \\Leftrightarrow \\forall x \\neg \\forall y T(n, n, x, y) \\Leftrightarrow \\neg \\exists x \\forall y T(n, n, x, y)$.\n",
    "\n",
    "In particular, for $n = e$, $\\neg \\exists x \\forall y T(e, e, x, y) \\Leftrightarrow \\neg \\exists x \\forall y R(e, x, y)$, contradiction.\n",
    "\n",
    "Suppose by way of contradiction that $\\{n : \\exists x \\forall y T(n, n, x, y)\\}$ is $\\Pi_2$. Then the prove is similar to the prove above and get a contradiction.\n",
    "\n",
    "From the above it follows that $\\Sigma_2 − \\Pi_2$ and $\\Pi_2 − \\Sigma_2$ are non-empty (where we denoted by $\\Sigma_2$ , resp. $\\Pi_2$ , the class of sets that are $\\Sigma_2$ , resp. $\\Pi_2$ ). ■"
   ]
  }
 ],
 "metadata": {
  "kernelspec": {
   "display_name": "Python 3",
   "language": "python",
   "name": "python3"
  },
  "language_info": {
   "codemirror_mode": {
    "name": "ipython",
    "version": 3
   },
   "file_extension": ".py",
   "mimetype": "text/x-python",
   "name": "python",
   "nbconvert_exporter": "python",
   "pygments_lexer": "ipython3",
   "version": "3.7.3"
  }
 },
 "nbformat": 4,
 "nbformat_minor": 2
}

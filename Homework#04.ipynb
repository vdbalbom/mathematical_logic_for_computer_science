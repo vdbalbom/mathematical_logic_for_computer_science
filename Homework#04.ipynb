{
 "cells": [
  {
   "cell_type": "markdown",
   "metadata": {},
   "source": [
    "# Homework 4"
   ]
  },
  {
   "cell_type": "markdown",
   "metadata": {},
   "source": [
    "## Group 1"
   ]
  },
  {
   "cell_type": "markdown",
   "metadata": {},
   "source": [
    "### Exercise 1\n",
    "\n",
    "Prove that $\\omega$-consistency implies consistency. Prove that the reverse implication is false.\n",
    "\n",
    "(Hint: consider the theory **PA** $+$ $\\neg Con$(**PA**) or **MA** $+$ $\\neg Con$(**MA**))\n",
    "\n",
    "#### Solution\n",
    "By the definition $T$ is inconsistent $\\Leftrightarrow$ exist a sentence $F$ such that $T \\vdash F \\wedge T \\vdash \\neg F$.\n",
    "\n",
    "By the definition $T$ is $\\omega$-inconsistent $\\Leftrightarrow$ Exist a formula $A(x)$ such that $\\forall n \\in \\mathbb{N}(T \\vdash A(n)) \\wedge T \\vdash \\neg (\\forall x)A(x)$.\n",
    "\n",
    "Prove $T$ is $\\omega$-consistency $\\Rightarrow$ $T$ is consistent is equivalent to prove $T$ is inconsistent $\\Rightarrow$ $T$ is $\\omega$-inconsistency.\n",
    "\n",
    "Suppose $T$ is inconsistent, so there exist a sentence $F$ such that  $T \\vdash F \\wedge T \\vdash \\neg F$.\n",
    "\n",
    "By quantifier elimination there is a formula $A(x)$ such that $F \\Leftrightarrow \\forall x A(x)$, so we have\n",
    "\n",
    "$(T \\vdash \\forall x A(x) \\wedge T \\vdash \\neg \\forall x A(x)) \\Rightarrow (\\forall n \\in \\mathbb{N} T \\vdash A(n) \\wedge T \\vdash \\neg \\forall x A(x))$.\n",
    "\n",
    "So, $T$ is also $\\omega$-inconsistency. ■\n",
    "\n",
    "By the Gödel's Second Incompleteness Theorem we have that if $T$ is consistent then $T$ does not prove $Con(T)$. So **MA** $+$ $\\neg Con$(**MA**) must be consistent, otherwise **MA** would prove $Con$(**MA**) contradicting the theorem.\n",
    "\n",
    "Let $A(x) = x \\neq 0$.\n",
    "\n",
    "It is true that $(\\forall n \\in \\mathbb{N}$ **MA** $\\vdash (x \\neq 0)) \\wedge ($  **MA** $ \\vdash \\neg(\\forall x) (x \\neq 0))$.\n",
    "\n",
    "So it is also true that, for $T = $ **MA** $+$ $\\neg Con$(**MA**),\n",
    "\n",
    "$(\\forall n \\in \\mathbb{N} T \\vdash (x \\neq 0)) \\wedge ( T \\vdash \\neg(\\forall x) (x \\neq 0))$.\n",
    "\n",
    "So **MA** $+$ $\\neg Con$(**MA**) is consistent but not $\\omega$-consistency, which proves that it is not true that $T$ is consistent $\\Rightarrow$ $T$ is $\\omega$-consistency. ■"
   ]
  },
  {
   "cell_type": "markdown",
   "metadata": {},
   "source": [
    "### Exercise 2\n",
    "\n",
    "Consider Gödel's unprovable sentence $G$ for some theory $T$ $\\supseteq$ **MA**, satisfying:\n",
    "\n",
    "$$T \\vdash G \\Leftrightarrow \\forall x \\neg {Proof}_T(x,\\overline{code(G)}).$$\n",
    "\n",
    "Prove that if $T$ is consistent then $T + \\{¬G\\}$ is consistent but not $\\omega$-consistent.\n",
    "\n",
    "#### Solution\n",
    "\n",
    "Suppose by way of contradiction that $T$ is consistent and $T + \\{\\neg G\\}$ is not, so $T \\vdash G$, otherwise $T + \\{\\neg G\\}$ would not prove $G$ then $T + \\{\\neg G\\}$ would not be inconsistent. But, by the Gödel's First Incompletness Theorem, Part I, if $T$ is consistent then $G$ is umprovable in $T$. Therefore, $T$ is inconsistent, contradiction. So, if $T$ is consistent then $T + \\{\\neg G\\}$ is consistent.\n",
    "\n",
    "By the Gödel's First Incompletness Theorem, Part II, if a theory is $\\omega$-consistent then $\\neg G$ is unprovable in $T$. Suppose by way of contradiction that $T + \\{\\neg G\\}$ is $\\omega$-consistent. So, by the theorem aforementioned, $\\neg G$ is not provable in $T + \\{\\neg G\\}$, but $T + \\{\\neg G\\}$ does prove $\\neg G$, contradiction. So $T + \\{\\neg G\\}$ is not $\\omega$-consistent. ■"
   ]
  }
 ],
 "metadata": {
  "kernelspec": {
   "display_name": "Python 3",
   "language": "python",
   "name": "python3"
  },
  "language_info": {
   "codemirror_mode": {
    "name": "ipython",
    "version": 3
   },
   "file_extension": ".py",
   "mimetype": "text/x-python",
   "name": "python",
   "nbconvert_exporter": "python",
   "pygments_lexer": "ipython3",
   "version": "3.7.3"
  }
 },
 "nbformat": 4,
 "nbformat_minor": 2
}

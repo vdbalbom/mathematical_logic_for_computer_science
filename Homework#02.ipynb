{
 "cells": [
  {
   "cell_type": "markdown",
   "metadata": {},
   "source": [
    "# Homework 2"
   ]
  },
  {
   "cell_type": "markdown",
   "metadata": {},
   "source": [
    "### Exercise 1\n",
    "\n",
    "Consider the following two structures for the language of graphs. $\\mathfrak{B}_1 = (V_1, E_1)$:\n",
    "\n",
    "$$V_1 = \\{1, 2, 3, 4\\},$$\n",
    "\n",
    "$$E_1 = \\{(1,2), (2,1), (2,3), (3,2), (3,4), (4,3), (4,1), (1,4)\\}$$\n",
    "\n",
    "and $\\mathfrak{B}_2 = (V_2, E_2)$:\n",
    "\n",
    "$$V_2 = \\{a_1, a_2, a_3, a_4, a_5, a_6\\},$$\n",
    "\n",
    "$$E_2 = \\{(a_1,a_2), (a_2,a_1), (a_2,a_3), (a_3,a_2), (a_3,a_4),(a_4,a_3), (a_4,a_5), (a_5,a_4), (a_5,a_6), (a_6,a_5), (a_6,a_3), (a_3,a_6), (a_6,a_1), (a_1,a_6)\\}$$\n",
    "\n",
    "(remember that to formalize undirected graphs we put the pair $(b,a)$ for each $(a,b)$). Show that the Duplicator doesn't win the $3$-moves game on $\\mathfrak{B}_1$ and $\\mathfrak{B}_2$. Exhibit two different sentences of quantifier-rank $3$ that distinguish between the two structures.\n",
    "\n",
    "### Solution\n",
    "\n",
    "Duplicator wins the game if he wins all plays. So, to prove the duplicator doesn't win the game we only have to find a play for the Spoiler such that it is impossible to the Duplicator to win.\n",
    "\n",
    "<img src=\"i/e2-1.jpeg\" width=\"50%\">\n",
    "\n",
    "Let the Spoiler play $(a_2, a_5, a_4)$.\n",
    "\n",
    "Here is all the possibilities to the Duplicator:\n",
    "\n",
    "<img src=\"i/e2-2.jpeg\" width=\"50%\">\n",
    "\n",
    "The Duplicator loses in all the cases, so the Duplicator doesn't win the $3$-moves game on $\\mathfrak{B}_1$ and $\\mathfrak{B}_2$. ■\n",
    "\n",
    "Now, let's exhibit two diferent sentences of quantifier-rank $3$ that distinguish between the two structures.\n",
    "\n",
    "$\\exists v_i \\in V \\exists v_j \\in V \\exists v_k \\in V (v_i \\neq v_j \\wedge v_i \\neq v_k \\wedge v_j \\neq v_k \\wedge (v_i,v_k) \\not\\in E \\wedge (v_j,v_k) \\not\\in E)$\n",
    "\n",
    "$\\forall v_i \\in V \\forall v_j \\in V (v_i \\neq v_j \\wedge (v_i,v_j) \\not\\in E \\Rightarrow \\exists v_k \\in V ((v_i,v_k) \\in E \\wedge (v_j,v_k) \\in E))$\n",
    "\n",
    "The first sentence is true for $\\mathfrak{B}_2$ but not true for $\\mathfrak{B}_1$ and the second sencence is true for $\\mathfrak{B}_1$ but not true for $\\mathfrak{B}_2$. This proves that $\\mathfrak{B}_1 \\not\\equiv_3 \\mathfrak{B}_2$, and we have that\n",
    "\n",
    "$\\mathfrak{B}_1 \\not\\equiv_3 \\mathfrak{B}_2 \\Leftrightarrow$ Duplicator doesn't win $G_3(\\mathfrak{B}_1,\\mathfrak{B}_2)$.\n",
    "\n",
    "So, this proves that the Duplicator doesn't win the $3$-moves game on $\\mathfrak{B}_1$ and $\\mathfrak{B}_2$. ■"
   ]
  },
  {
   "cell_type": "markdown",
   "metadata": {},
   "source": [
    "### Exercise 2\n",
    "\n",
    "Consider the property of being an Eulerian graph. This is equivalent to the fact that every node has even degree. Use the following structure to prove that the Eulerian (boolean) query is not first-order definable in the language of graphs:\n",
    "\n",
    "$\\mathfrak{B}_n$: The set of vertices is $\\{a_1, \\cdots, a_n, v, w\\}$. The only edges are follows: each $a_i$ is connected by an edge to $v$ and to $w$. Show that for every $m \\leq n$ the Duplicator wins the $m$-moves game on $A_n$ and $A_{n+1}$.\n",
    "\n",
    "### Solution\n",
    "\n",
    "[TODO]"
   ]
  },
  {
   "cell_type": "markdown",
   "metadata": {},
   "source": [
    "### Exercise 3\n",
    "\n",
    "Express the following queries in the language of graphs:\n",
    "\n",
    "**(1)** $G$ is a complete graph.\n",
    "\n",
    "**(2)** $G$ has two isolated nodes.\n",
    "\n",
    "**(3)** $G$ has degree at least 2. \n",
    "\n",
    "**(4)** $G$ contains a path of length 4.\n",
    "\n",
    "### Solution\n",
    "\n",
    "Let $G = (V,E)$.\n",
    "\n",
    "**(1)** $\\forall v_i \\in V \\forall v_j \\in V (v_i \\neq v_j \\Leftrightarrow (v_i,v_j) \\in E)$. ■\n",
    "\n",
    "**(2)** $\\exists v_i \\in V \\exists v_j \\in V (v_i \\neq v_j \\wedge \\forall v_k \\in V ((v_i,v_k) \\not\\in E \\wedge (v_k,v_i) \\not\\in E \\wedge (v_j,v_k) \\not\\in E \\wedge (v_k,v_j) \\not\\in E))$. ■\n",
    "\n",
    "**(3)** $\\forall v_k \\in V ((v_k,v_k) \\in E \\vee \\exists v_i \\in V \\exists v_j \\in V (v_i \\neq v_j \\wedge v_i \\neq v_k \\wedge v_j \\neq v_k \\wedge ((v_i,v_k) \\in E \\vee (v_k,v_i) \\in E) \\wedge ((v_j,v_k) \\in E \\vee (v_k,v_j) \\in E)))$. ■\n",
    "\n",
    "**(4)** $\\exists v_1 \\in V \\exists v_2 \\in V \\exists v_3 \\in V \\exists v_4 \\in V \\exists v_5 \\in V (v_1 \\neq v_2 \\wedge v_1 \\neq v_3 \\wedge v_1 \\neq v_4 \\wedge v_1 \\neq v_5 \\wedge v_2 \\neq v_3 \\wedge v_2 \\neq v_4 \\wedge v_2 \\neq v_5 \\wedge$\n",
    "\n",
    "$v_3 \\neq v_4 \\wedge v_3 \\neq v_5 \\wedge v_4 \\neq v_5 \\wedge (v_1,v_2) \\in E \\wedge (v_2,v_3) \\in E \\wedge (v_3,v_4) \\in E \\wedge (v_4,v_5) \\in E)$. ■"
   ]
  }
 ],
 "metadata": {
  "kernelspec": {
   "display_name": "Python 3",
   "language": "python",
   "name": "python3"
  },
  "language_info": {
   "codemirror_mode": {
    "name": "ipython",
    "version": 3
   },
   "file_extension": ".py",
   "mimetype": "text/x-python",
   "name": "python",
   "nbconvert_exporter": "python",
   "pygments_lexer": "ipython3",
   "version": "3.6.5"
  }
 },
 "nbformat": 4,
 "nbformat_minor": 2
}
